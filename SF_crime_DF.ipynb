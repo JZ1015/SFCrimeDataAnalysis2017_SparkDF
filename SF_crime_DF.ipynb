{
 "cells": [
  {
   "cell_type": "code",
   "execution_count": 2,
   "metadata": {
    "collapsed": true
   },
   "outputs": [],
   "source": [
    "crime_data_lines=spark.read.option(\"header\",\"true\").csv('../Police_Department_Incidents_2017_.csv')"
   ]
  },
  {
   "cell_type": "code",
   "execution_count": 5,
   "metadata": {},
   "outputs": [
    {
     "name": "stdout",
     "output_type": "stream",
     "text": [
      "+----------+--------+--------------+---------+----------+-----+----------+--------------+-------------------+-------------------+------------------+--------------------+--------------+\n",
      "|IncidntNum|Category|      Descript|DayOfWeek|      Date| Time|PdDistrict|    Resolution|            Address|                  X|                 Y|            Location|          PdId|\n",
      "+----------+--------+--------------+---------+----------+-----+----------+--------------+-------------------+-------------------+------------------+--------------------+--------------+\n",
      "| 150333505|WARRANTS|WARRANT ARREST|Wednesday|04/19/2017|21:29|   MISSION|ARREST, BOOKED|24TH ST / BRYANT ST|-122.40913193948903|37.752796998558445|(37.7527969985584...|15033350563010|\n",
      "+----------+--------+--------------+---------+----------+-----+----------+--------------+-------------------+-------------------+------------------+--------------------+--------------+\n",
      "only showing top 1 row\n",
      "\n"
     ]
    }
   ],
   "source": [
    "crime_data_lines.show(1)"
   ]
  },
  {
   "cell_type": "code",
   "execution_count": 6,
   "metadata": {},
   "outputs": [
    {
     "name": "stdout",
     "output_type": "stream",
     "text": [
      "+--------------------+-----+\n",
      "|            Category|count|\n",
      "+--------------------+-----+\n",
      "|               FRAUD| 2122|\n",
      "|             SUICIDE|   74|\n",
      "|         LIQUOR LAWS|   67|\n",
      "|     SECONDARY CODES| 1743|\n",
      "|     FAMILY OFFENSES|   34|\n",
      "|      MISSING PERSON| 3736|\n",
      "|      OTHER OFFENSES|15460|\n",
      "|DRIVING UNDER THE...|  252|\n",
      "|            WARRANTS| 4195|\n",
      "|               ARSON|  272|\n",
      "|FORGERY/COUNTERFE...|  414|\n",
      "|            GAMBLING|   13|\n",
      "|             BRIBERY|   51|\n",
      "|             ASSAULT|11587|\n",
      "|         DRUNKENNESS|  281|\n",
      "|           EXTORTION|   51|\n",
      "|                TREA|    1|\n",
      "|         WEAPON LAWS| 1383|\n",
      "|           LOITERING|   29|\n",
      "|      SUSPICIOUS OCC| 5267|\n",
      "+--------------------+-----+\n",
      "only showing top 20 rows\n",
      "\n"
     ]
    }
   ],
   "source": [
    "crime_data_lines.groupBy(\"Category\").count().show()"
   ]
  },
  {
   "cell_type": "code",
   "execution_count": 7,
   "metadata": {},
   "outputs": [
    {
     "name": "stdout",
     "output_type": "stream",
     "text": [
      "+----------+-----+\n",
      "|PdDistrict|count|\n",
      "+----------+-----+\n",
      "|   MISSION|17910|\n",
      "|   BAYVIEW|11698|\n",
      "|   CENTRAL|15693|\n",
      "|   TARAVAL|10190|\n",
      "|TENDERLOIN| 7295|\n",
      "| INGLESIDE| 9809|\n",
      "|      PARK| 7297|\n",
      "|  SOUTHERN|23727|\n",
      "|  RICHMOND| 8020|\n",
      "|  NORTHERN|17563|\n",
      "+----------+-----+\n",
      "\n"
     ]
    }
   ],
   "source": [
    "crime_data_lines.groupBy(\"PdDistrict\").count().show()"
   ]
  },
  {
   "cell_type": "code",
   "execution_count": 11,
   "metadata": {},
   "outputs": [
    {
     "name": "stdout",
     "output_type": "stream",
     "text": [
      "+----------+---------+-----+\n",
      "|      Date|DayOfWeek|count|\n",
      "+----------+---------+-----+\n",
      "|01/29/2017|   Sunday|  423|\n",
      "|10/08/2017|   Sunday|  439|\n",
      "|08/27/2017|   Sunday|  369|\n",
      "|06/18/2017|   Sunday|  382|\n",
      "|02/19/2017|   Sunday|  420|\n",
      "|05/14/2017|   Sunday|  353|\n",
      "|03/12/2017|   Sunday|  401|\n",
      "|06/04/2017|   Sunday|  391|\n",
      "|02/26/2017|   Sunday|  407|\n",
      "|09/17/2017|   Sunday|  347|\n",
      "|10/29/2017|   Sunday|  360|\n",
      "|03/05/2017|   Sunday|  381|\n",
      "|08/20/2017|   Sunday|  430|\n",
      "|08/06/2017|   Sunday|  346|\n",
      "|04/23/2017|   Sunday|  401|\n",
      "|02/05/2017|   Sunday|  383|\n",
      "|03/26/2017|   Sunday|  449|\n",
      "|07/02/2017|   Sunday|  397|\n",
      "|04/02/2017|   Sunday|  374|\n",
      "|10/22/2017|   Sunday|  386|\n",
      "+----------+---------+-----+\n",
      "only showing top 20 rows\n",
      "\n"
     ]
    }
   ],
   "source": [
    "crime_data_lines.groupBy(\"Date\",\"DayOfWeek\").count().filter('DayOfWeek==\"Sunday\"').show()"
   ]
  }
 ],
 "metadata": {
  "kernelspec": {
   "display_name": "Python 2",
   "language": "python",
   "name": "python2"
  },
  "language_info": {
   "codemirror_mode": {
    "name": "ipython",
    "version": 2
   },
   "file_extension": ".py",
   "mimetype": "text/x-python",
   "name": "python",
   "nbconvert_exporter": "python",
   "pygments_lexer": "ipython2",
   "version": "2.7.14"
  }
 },
 "nbformat": 4,
 "nbformat_minor": 2
}
